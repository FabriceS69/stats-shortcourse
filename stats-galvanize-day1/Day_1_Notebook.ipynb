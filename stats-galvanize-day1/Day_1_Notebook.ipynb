{
 "cells": [
  {
   "cell_type": "markdown",
   "metadata": {},
   "source": [
    "## This notebook is an optional accompaniment to the Day 1 Statistics Short-Course"
   ]
  },
  {
   "cell_type": "markdown",
   "metadata": {},
   "source": [
    "### Show how Python can generate random variable outcomes"
   ]
  },
  {
   "cell_type": "code",
   "execution_count": 1,
   "metadata": {},
   "outputs": [],
   "source": [
    "import random  # standard library random module\n",
    "random.seed(1)"
   ]
  },
  {
   "cell_type": "code",
   "execution_count": 2,
   "metadata": {},
   "outputs": [
    {
     "name": "stdout",
     "output_type": "stream",
     "text": [
      "0.13436424411240122\n"
     ]
    }
   ],
   "source": [
    "X = random.random()  # random, uniform number between 0 and 1\n",
    "print(X)"
   ]
  },
  {
   "cell_type": "code",
   "execution_count": 3,
   "metadata": {},
   "outputs": [
    {
     "name": "stdout",
     "output_type": "stream",
     "text": [
      "5.237168684686163\n"
     ]
    }
   ],
   "source": [
    "X = 1 + 5 * random.random()  # random, uniform number between 1 and 6\n",
    "print(X)"
   ]
  },
  {
   "cell_type": "code",
   "execution_count": 4,
   "metadata": {},
   "outputs": [
    {
     "name": "stdout",
     "output_type": "stream",
     "text": [
      "4.81887309488307\n"
     ]
    }
   ],
   "source": [
    "X = random.uniform(1, 6)  # another way to do it using the uniform distribution\n",
    "print(X)"
   ]
  },
  {
   "cell_type": "code",
   "execution_count": 5,
   "metadata": {},
   "outputs": [
    {
     "name": "stdout",
     "output_type": "stream",
     "text": [
      "3\n"
     ]
    }
   ],
   "source": [
    "X = random.randint(1, 6)  # random integer between 1 and 6\n",
    "print(X)"
   ]
  },
  {
   "cell_type": "code",
   "execution_count": 6,
   "metadata": {},
   "outputs": [
    {
     "name": "stdout",
     "output_type": "stream",
     "text": [
      "Heads\n"
     ]
    }
   ],
   "source": [
    "flip = random.choice(['Heads', 'Tails'])\n",
    "print(flip)"
   ]
  },
  {
   "cell_type": "markdown",
   "metadata": {},
   "source": [
    "## Probability, Statistics, or both?"
   ]
  },
  {
   "cell_type": "markdown",
   "metadata": {},
   "source": [
    "1. You were rolling a 6-sided die and you rolled five 6s in a row. Do you think it’s\n",
    "fair?"
   ]
  },
  {
   "cell_type": "markdown",
   "metadata": {},
   "source": []
  },
  {
   "cell_type": "markdown",
   "metadata": {},
   "source": [
    "2. With a fair die, how likely is it to roll five 6s in a row?"
   ]
  },
  {
   "cell_type": "markdown",
   "metadata": {},
   "source": []
  },
  {
   "cell_type": "markdown",
   "metadata": {},
   "source": [
    "3. You got an average of 4 robocalls per day last week. How many do you think\n",
    "you’ll get today?"
   ]
  },
  {
   "cell_type": "markdown",
   "metadata": {},
   "source": []
  },
  {
   "cell_type": "markdown",
   "metadata": {},
   "source": [
    "4. In a mobile phone manufacturing line, 1 phone is found to be defective per\n",
    "1000 phones. You watched the process and saw 1500 phones go by until 1 was\n",
    "rejected. Was the failure rate incorrect?"
   ]
  },
  {
   "cell_type": "markdown",
   "metadata": {},
   "source": []
  },
  {
   "cell_type": "markdown",
   "metadata": {},
   "source": [
    "5. You’re a teacher grading your students’ tests:   \n",
    "   a. You plot a histogram of the results and find that they’re well described by a\n",
    "normal distribution with a mean of 75%, standard deviation of 5%."
   ]
  },
  {
   "cell_type": "markdown",
   "metadata": {},
   "source": []
  },
  {
   "cell_type": "markdown",
   "metadata": {},
   "source": [
    "5. You’re a teacher grading your students’ tests:   \n",
    "    b. Another teachers’ top student scores 100% on the exam. Is she a better\n",
    "teacher than you are?"
   ]
  },
  {
   "cell_type": "markdown",
   "metadata": {},
   "source": []
  },
  {
   "cell_type": "markdown",
   "metadata": {},
   "source": [
    "## Arrangments and Permuations, you try"
   ]
  },
  {
   "cell_type": "markdown",
   "metadata": {},
   "source": [
    "1. How many different car number plates are possible with 3 digits followed by 3 letters?"
   ]
  },
  {
   "cell_type": "code",
   "execution_count": null,
   "metadata": {},
   "outputs": [],
   "source": []
  },
  {
   "cell_type": "markdown",
   "metadata": {},
   "source": [
    "2. 4 girls and 3 boys are sitting on a bench.  \n",
    "   a. How many different ways could they sit if there were no restrictions?"
   ]
  },
  {
   "cell_type": "code",
   "execution_count": null,
   "metadata": {},
   "outputs": [],
   "source": []
  },
  {
   "cell_type": "markdown",
   "metadata": {},
   "source": [
    "2. 4 girls and 3 boys are sitting on a bench.  \n",
    "    b. How many different ways could they sit if the ordered needed to alternate girl-boy? (starting with girl)"
   ]
  },
  {
   "cell_type": "code",
   "execution_count": null,
   "metadata": {},
   "outputs": [],
   "source": []
  },
  {
   "cell_type": "markdown",
   "metadata": {},
   "source": [
    "3. In a 100 m dash with 10 athletes, how many different ways could they finish first, second, and third?"
   ]
  },
  {
   "cell_type": "code",
   "execution_count": null,
   "metadata": {},
   "outputs": [],
   "source": []
  },
  {
   "cell_type": "markdown",
   "metadata": {},
   "source": [
    "## Combinations, you try  \n",
    "\n",
    "A committee of 5 people is to be chosen from 6 men and 4 women."
   ]
  },
  {
   "cell_type": "markdown",
   "metadata": {},
   "source": [
    "1. How many committees are possible?"
   ]
  },
  {
   "cell_type": "code",
   "execution_count": null,
   "metadata": {},
   "outputs": [],
   "source": []
  },
  {
   "cell_type": "markdown",
   "metadata": {},
   "source": [
    "2. There’s a desire to keep the ratio of men to women the same. How many committees are possible with 3 men and 2 women?"
   ]
  },
  {
   "cell_type": "code",
   "execution_count": null,
   "metadata": {},
   "outputs": [],
   "source": []
  },
  {
   "cell_type": "markdown",
   "metadata": {},
   "source": [
    "3. A woman majority committee is desired. How many woman-majority committees are possible?"
   ]
  },
  {
   "cell_type": "code",
   "execution_count": null,
   "metadata": {},
   "outputs": [],
   "source": []
  },
  {
   "cell_type": "markdown",
   "metadata": {},
   "source": [
    "## Discrete distributions"
   ]
  },
  {
   "cell_type": "code",
   "execution_count": 7,
   "metadata": {},
   "outputs": [],
   "source": [
    "# for plotting\n",
    "import matplotlib.pyplot as plt\n",
    "plt.style.use('ggplot')\n",
    "plt.rcParams.update({'font.size': 16})\n",
    "\n",
    "# for statistical distributions\n",
    "from scipy import stats\n",
    "\n",
    "# for numpy functions\n",
    "import numpy as np"
   ]
  },
  {
   "cell_type": "markdown",
   "metadata": {},
   "source": [
    "### Bernoulli"
   ]
  },
  {
   "cell_type": "code",
   "execution_count": 8,
   "metadata": {},
   "outputs": [
    {
     "data": {
      "image/png": "[encoded data removed]",
      "text/plain": [
       "<Figure size 432x432 with 1 Axes>"
      ]
     },
     "metadata": {
      "needs_background": "light"
     },
     "output_type": "display_data"
    }
   ],
   "source": [
    "p = 0.3 # probability of success\n",
    "\n",
    "bernoulli = stats.bernoulli(p) # make a bernoulli distrbution object\n",
    "\n",
    "x_low = bernoulli.ppf(0.01)  # low range of distribution to plot\n",
    "x_high = bernoulli.ppf(0.99) # upper range of distribution to plot\n",
    "\n",
    "y_low = bernoulli.pmf(x_low)\n",
    "y_high = bernoulli.pmf(x_high)\n",
    "\n",
    "x = [x_low, x_high]\n",
    "y = [y_low, y_high]\n",
    "\n",
    "fig, ax = plt.subplots(nrows=1, ncols=1, figsize=(6,6))\n",
    "ax.plot(x, y, 'bo', label='pmf')\n",
    "ax.vlines(x, 0, y, colors='b')\n",
    "ax.set_xlabel('possible values of x')\n",
    "ax.set_ylabel('pmf')\n",
    "ax.set_title(f\"Bernoulli distribution, p={p}\")\n",
    "ax.legend();"
   ]
  },
  {
   "cell_type": "code",
   "execution_count": 9,
   "metadata": {},
   "outputs": [
    {
     "name": "stdout",
     "output_type": "stream",
     "text": [
      "[0 0 0 0 0]\n"
     ]
    }
   ],
   "source": [
    "n = 5 # want 5 random samples from the distribution\n",
    "rv = bernoulli.rvs(n)\n",
    "print(rv)"
   ]
  },
  {
   "cell_type": "code",
   "execution_count": 10,
   "metadata": {},
   "outputs": [
    {
     "data": {
      "text/plain": [
       "0.3"
      ]
     },
     "execution_count": 10,
     "metadata": {},
     "output_type": "execute_result"
    }
   ],
   "source": [
    "# what's the probability of a certain outcome (0, or 1)?\n",
    "bernoulli.pmf(1)"
   ]
  },
  {
   "cell_type": "markdown",
   "metadata": {},
   "source": [
    "### Binomial"
   ]
  },
  {
   "cell_type": "code",
   "execution_count": 11,
   "metadata": {},
   "outputs": [
    {
     "data": {
      "image/png": "[encoded data removed]",
      "text/plain": [
       "<Figure size 432x432 with 1 Axes>"
      ]
     },
     "metadata": {
      "needs_background": "light"
     },
     "output_type": "display_data"
    }
   ],
   "source": [
    "p = 0.3 # probability of success\n",
    "n = 5   # number of trials\n",
    "\n",
    "binomial = stats.binom(n, p) # make a binomial distrbution object\n",
    "\n",
    "x_low = binomial.ppf(0.01)  # low range of distribution to plot\n",
    "x_high = binomial.ppf(0.999) # upper range of distribution to plot\n",
    "\n",
    "x = np.arange(x_low, x_high+1)\n",
    "y = binomial.pmf(x)\n",
    "\n",
    "fig, ax = plt.subplots(nrows=1, ncols=1, figsize=(6,6))\n",
    "ax.plot(x, y, 'bo', label='pmf')\n",
    "ax.vlines(x, 0, y, colors='b')\n",
    "ax.set_xlabel('possible values of x')\n",
    "ax.set_ylabel('pmf')\n",
    "ax.set_title(f\"Binomial distribution, p={p}, n={n}\")\n",
    "ax.legend();"
   ]
  },
  {
   "cell_type": "code",
   "execution_count": 12,
   "metadata": {},
   "outputs": [
    {
     "name": "stdout",
     "output_type": "stream",
     "text": [
      "[3 2 2 1 1 3 1 1 1 1]\n"
     ]
    }
   ],
   "source": [
    "n = 10 # want 10 random samples from the distribution\n",
    "rv = binomial.rvs(n)\n",
    "print(rv)"
   ]
  },
  {
   "cell_type": "code",
   "execution_count": 13,
   "metadata": {},
   "outputs": [
    {
     "data": {
      "text/plain": [
       "0.3086999999999999"
      ]
     },
     "execution_count": 13,
     "metadata": {},
     "output_type": "execute_result"
    }
   ],
   "source": [
    "# what's the probability of 2 successes?\n",
    "binomial.pmf(2)"
   ]
  },
  {
   "cell_type": "markdown",
   "metadata": {},
   "source": [
    "### Geometric  \n",
    "See example [here.](https://docs.scipy.org/doc/scipy/reference/generated/scipy.stats.geom.html)"
   ]
  },
  {
   "cell_type": "markdown",
   "metadata": {},
   "source": [
    "### Poisson\n",
    "See example [here.](https://docs.scipy.org/doc/scipy/reference/generated/scipy.stats.poisson.html)"
   ]
  },
  {
   "cell_type": "markdown",
   "metadata": {},
   "source": [
    "## Continuous distributions"
   ]
  },
  {
   "cell_type": "markdown",
   "metadata": {},
   "source": [
    "### Uniform"
   ]
  },
  {
   "cell_type": "code",
   "execution_count": 14,
   "metadata": {},
   "outputs": [
    {
     "data": {
      "image/png": "[encoded data removed]",
      "text/plain": [
       "<Figure size 432x432 with 1 Axes>"
      ]
     },
     "metadata": {
      "needs_background": "light"
     },
     "output_type": "display_data"
    }
   ],
   "source": [
    "a = 1 # lower bound\n",
    "b = 3 # upper bound\n",
    "\n",
    "scale = b - a\n",
    "\n",
    "uniform = stats.uniform(a, scale) # make a uniform distrbution object\n",
    "\n",
    "x_low = uniform.ppf(0.01)  # low range of distribution to plot\n",
    "x_high = uniform.ppf(0.99) # upper range of distribution to plot\n",
    "\n",
    "x = np.linspace(x_low, x_high)\n",
    "y = uniform.pdf(x)\n",
    "\n",
    "fig, ax = plt.subplots(nrows=1, ncols=1, figsize=(6,6))\n",
    "ax.plot(x, y, 'b-', label='pdf')\n",
    "ax.set_xlabel('possible values of x')\n",
    "ax.set_ylabel('pdf')\n",
    "ax.set_title(f\"Uniform distribution, a={a}, b={b}\")\n",
    "ax.legend();"
   ]
  },
  {
   "cell_type": "code",
   "execution_count": 15,
   "metadata": {},
   "outputs": [
    {
     "name": "stdout",
     "output_type": "stream",
     "text": [
      "[1.06390403 1.38307633 1.3937215  1.5619903  1.5942923  2.63199832\n",
      " 2.46154072 1.20981399 1.42624589 1.32659683]\n"
     ]
    }
   ],
   "source": [
    "n = 10 # want 10 random samples from the distribution\n",
    "rv = uniform.rvs(n)\n",
    "print(rv)"
   ]
  },
  {
   "cell_type": "code",
   "execution_count": 16,
   "metadata": {},
   "outputs": [
    {
     "data": {
      "text/plain": [
       "0.5"
      ]
     },
     "execution_count": 16,
     "metadata": {},
     "output_type": "execute_result"
    }
   ],
   "source": [
    "# what's the probability that a value is between 2 and 1?\n",
    "uniform.cdf(2) - uniform.cdf(1)"
   ]
  },
  {
   "cell_type": "markdown",
   "metadata": {},
   "source": [
    "### Gaussian (normal)"
   ]
  },
  {
   "cell_type": "code",
   "execution_count": 17,
   "metadata": {},
   "outputs": [
    {
     "data": {
      "image/png": "[encoded data removed]",
      "text/plain": [
       "<Figure size 432x432 with 1 Axes>"
      ]
     },
     "metadata": {
      "needs_background": "light"
     },
     "output_type": "display_data"
    }
   ],
   "source": [
    "mu = 1    # mean\n",
    "sigma = 3 # standard deviation\n",
    "\n",
    "normal = stats.norm(loc=mu, scale=sigma) # make a normal distrbution object\n",
    "\n",
    "x_low = normal.ppf(0.01)  # low range of distribution to plot\n",
    "x_high = normal.ppf(0.99) # upper range of distribution to plot\n",
    "\n",
    "x = np.linspace(x_low, x_high)\n",
    "y = normal.pdf(x)\n",
    "\n",
    "fig, ax = plt.subplots(nrows=1, ncols=1, figsize=(6,6))\n",
    "ax.plot(x, y, 'b-', label='pdf')\n",
    "ax.set_xlabel('possible values of x')\n",
    "ax.set_ylabel('pdf')\n",
    "ax.set_title(f\"Normal distribution, mu={mu}, sigma={sigma}\")\n",
    "ax.legend();"
   ]
  },
  {
   "cell_type": "code",
   "execution_count": 18,
   "metadata": {},
   "outputs": [
    {
     "name": "stdout",
     "output_type": "stream",
     "text": [
      "[-1.19052975 -0.6021211  -3.41119522  1.37384942 -1.67124869 -0.57173049\n",
      "  6.57335881 -2.79108457 -4.96806122 -3.00573411]\n"
     ]
    }
   ],
   "source": [
    "n = 10 # want 10 random samples from the distribution\n",
    "rv = normal.rvs(n)\n",
    "print(rv)"
   ]
  },
  {
   "cell_type": "code",
   "execution_count": 19,
   "metadata": {},
   "outputs": [
    {
     "data": {
      "text/plain": [
       "0.09121121972586788"
      ]
     },
     "execution_count": 19,
     "metadata": {},
     "output_type": "execute_result"
    }
   ],
   "source": [
    "# what's the probability that a value is greater than 5?\n",
    "1 - normal.cdf(5)"
   ]
  },
  {
   "cell_type": "markdown",
   "metadata": {},
   "source": [
    "### Exponential distribution\n",
    "\n",
    "See documentation [here.](https://docs.scipy.org/doc/scipy/reference/generated/scipy.stats.expon.html)"
   ]
  },
  {
   "cell_type": "markdown",
   "metadata": {},
   "source": [
    "## Example of statistics and their relevance: Anscombe's Quartet"
   ]
  },
  {
   "cell_type": "code",
   "execution_count": 20,
   "metadata": {},
   "outputs": [
    {
     "name": "stdout",
     "output_type": "stream",
     "text": [
      "mean=7.50, std=1.94, r=0.82\n",
      "mean=7.50, std=1.94, r=0.82\n",
      "mean=7.50, std=1.94, r=0.82\n",
      "mean=7.50, std=1.94, r=0.82\n"
     ]
    },
    {
     "data": {
      "image/png": "[encoded data removed]",
      "text/plain": [
       "<Figure size 720x720 with 4 Axes>"
      ]
     },
     "metadata": {
      "needs_background": "light"
     },
     "output_type": "display_data"
    }
   ],
   "source": [
    "\"\"\"\n",
    "from matplotlib documentation\n",
    "\n",
    "Edward Tufte uses this example from Anscombe to show 4 datasets of x\n",
    "and y that have the same mean, standard deviation, and regression\n",
    "line, but which are qualitatively different.\n",
    "\"\"\"\n",
    "\n",
    "import matplotlib.pyplot as plt\n",
    "import numpy as np\n",
    "\n",
    "x = [10, 8, 13, 9, 11, 14, 6, 4, 12, 7, 5]\n",
    "y1 = [8.04, 6.95, 7.58, 8.81, 8.33, 9.96, 7.24, 4.26, 10.84, 4.82, 5.68]\n",
    "y2 = [9.14, 8.14, 8.74, 8.77, 9.26, 8.10, 6.13, 3.10, 9.13, 7.26, 4.74]\n",
    "y3 = [7.46, 6.77, 12.74, 7.11, 7.81, 8.84, 6.08, 5.39, 8.15, 6.42, 5.73]\n",
    "x4 = [8, 8, 8, 8, 8, 8, 8, 19, 8, 8, 8]\n",
    "y4 = [6.58, 5.76, 7.71, 8.84, 8.47, 7.04, 5.25, 12.50, 5.56, 7.91, 6.89]\n",
    "\n",
    "\n",
    "def fit(x):\n",
    "    return 3 + 0.5 * x\n",
    "\n",
    "\n",
    "fig, axs = plt.subplots(2, 2, sharex=True, sharey=True, figsize=(10,10))\n",
    "axs[0, 0].set(xlim=(0, 20), ylim=(2, 14))\n",
    "axs[0, 0].set(xticks=(0, 10, 20), yticks=(4, 8, 12))\n",
    "\n",
    "xfit = np.array([np.min(x), np.max(x)])\n",
    "axs[0, 0].plot(x, y1, 'ks', xfit, fit(xfit), 'r-', lw=2)\n",
    "axs[0, 1].plot(x, y2, 'ks', xfit, fit(xfit), 'r-', lw=2)\n",
    "axs[1, 0].plot(x, y3, 'ks', xfit, fit(xfit), 'r-', lw=2)\n",
    "xfit = np.array([np.min(x4), np.max(x4)])\n",
    "axs[1, 1].plot(x4, y4, 'ks', xfit, fit(xfit), 'r-', lw=2)\n",
    "\n",
    "for ax, label in zip(axs.flat, ['I', 'II', 'III', 'IV']):\n",
    "    ax.label_outer()\n",
    "    ax.text(3, 12, label, fontsize=20)\n",
    "\n",
    "# verify the stats\n",
    "pairs = (x, y1), (x, y2), (x, y3), (x4, y4)\n",
    "for x, y in pairs:\n",
    "    print('mean=%1.2f, std=%1.2f, r=%1.2f' % (np.mean(y), np.std(y),\n",
    "          np.corrcoef(x, y)[0][1]))\n",
    "\n",
    "plt.show()"
   ]
  },
  {
   "cell_type": "code",
   "execution_count": null,
   "metadata": {},
   "outputs": [],
   "source": []
  }
 ],
 "metadata": {
  "kernelspec": {
   "display_name": "Python 3",
   "language": "python",
   "name": "python3"
  },
  "language_info": {
   "codemirror_mode": {
    "name": "ipython",
    "version": 3
   },
   "file_extension": ".py",
   "mimetype": "text/x-python",
   "name": "python",
   "nbconvert_exporter": "python",
   "pygments_lexer": "ipython3",
   "version": "3.7.3"
  }
 },
 "nbformat": 4,
 "nbformat_minor": 2
}
